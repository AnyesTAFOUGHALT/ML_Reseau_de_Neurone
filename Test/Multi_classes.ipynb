{
 "cells": [
  {
   "cell_type": "markdown",
   "metadata": {},
   "source": [
    "# Importation des bibliothèques"
   ]
  },
  {
   "cell_type": "code",
   "execution_count": 1,
   "metadata": {},
   "outputs": [],
   "source": [
    "import sys\n",
    "sys.path.insert(0, '..')"
   ]
  },
  {
   "cell_type": "code",
   "execution_count": 2,
   "metadata": {},
   "outputs": [],
   "source": [
    "%load_ext autoreload\n",
    "%autoreload 2\n",
    "from modele import Module_lineare , Softmax , TanH , Sigmoide\n",
    "from sequentiel import Sequentiel , Optim\n",
    "from loss  import MSELoss , CELoss\n",
    "import utils as ut\n",
    "import numpy as np\n",
    "import matplotlib.pyplot as plt\n",
    "import math\n",
    "\n",
    "from sklearn.model_selection import train_test_split\n",
    "from sklearn.linear_model import LinearRegression"
   ]
  },
  {
   "cell_type": "markdown",
   "metadata": {},
   "source": [
    "# Chargement des données USPS"
   ]
  },
  {
   "cell_type": "code",
   "execution_count": 3,
   "metadata": {},
   "outputs": [
    {
     "name": "stdout",
     "output_type": "stream",
     "text": [
      "Train_X : (7291, 256)\n",
      "Train_y : (7291, 1)\n",
      "\n",
      "Test_X : (2007, 256)\n",
      "Test_y : (2007, 1)\n"
     ]
    }
   ],
   "source": [
    "uspsdatatrain = \"../Data/USPS/USPS_train.txt\"\n",
    "uspsdatatest = \"../Data/USPS/USPS_test.txt\"\n",
    "alltrainx,alltrainy = ut.load_usps(uspsdatatrain)\n",
    "alltestx,alltesty = ut.load_usps(uspsdatatest)\n",
    "\n",
    "alltrainy , alltesty = alltrainy.reshape(-1,1) , alltesty.reshape(-1,1)\n",
    "\n",
    "print('Train_X :', alltrainx.shape)\n",
    "print('Train_y :', alltrainy.shape)\n",
    "print()\n",
    "print('Test_X :', alltestx.shape)\n",
    "print('Test_y :', alltesty.shape)"
   ]
  },
  {
   "cell_type": "code",
   "execution_count": 4,
   "metadata": {},
   "outputs": [
    {
     "data": {
      "text/plain": [
       "array([[6],\n",
       "       [5],\n",
       "       [4]])"
      ]
     },
     "execution_count": 4,
     "metadata": {},
     "output_type": "execute_result"
    }
   ],
   "source": [
    "alltrainy[:3]"
   ]
  },
  {
   "cell_type": "code",
   "execution_count": 14,
   "metadata": {},
   "outputs": [
    {
     "name": "stdout",
     "output_type": "stream",
     "text": [
      "Train_y_onehot : (7291, 10)\n",
      "Test_y_onehot : (2007, 10)\n"
     ]
    }
   ],
   "source": [
    "alltrainy_onehot , alltesty_onehot = ut.one_hot(alltrainy) , ut.one_hot(alltesty)\n",
    "print('Train_y_onehot :', alltrainy_onehot.shape)\n",
    "print('Test_y_onehot :', alltesty_onehot.shape)"
   ]
  },
  {
   "cell_type": "code",
   "execution_count": 15,
   "metadata": {},
   "outputs": [
    {
     "data": {
      "text/plain": [
       "array([[0., 0., 0., 0., 0., 0., 1., 0., 0., 0.],\n",
       "       [0., 0., 0., 0., 0., 1., 0., 0., 0., 0.],\n",
       "       [0., 0., 0., 0., 1., 0., 0., 0., 0., 0.]])"
      ]
     },
     "execution_count": 15,
     "metadata": {},
     "output_type": "execute_result"
    }
   ],
   "source": [
    "alltrainy_onehot[:3]"
   ]
  },
  {
   "cell_type": "code",
   "execution_count": 29,
   "metadata": {},
   "outputs": [],
   "source": [
    "input_size = alltrainx.shape[1]\n",
    "output_size = 10\n",
    "\n",
    "module_1 = Module_lineare(input_size, 128 , True)\n",
    "module_2 = Module_lineare(128, output_size,True)\n",
    "\n",
    "tan = TanH()\n",
    "softmax = Softmax()\n",
    "\n",
    "loss = CELoss()\n",
    "\n",
    "\n",
    "\n",
    "network = Sequentiel([module_1,tan,module_2,softmax])\n",
    "\n",
    "\n",
    "optimiser = Optim(network,loss,eps=1e-3)\n",
    "\n",
    "optimiser.SGD(alltrainx, alltrainy_onehot, 100, 100)\n",
    "\n",
    "y_pred = np.argmax(optimiser._net.forward(alltestx) , axis=1)\n",
    "\n"
   ]
  },
  {
   "cell_type": "code",
   "execution_count": 30,
   "metadata": {},
   "outputs": [
    {
     "name": "stdout",
     "output_type": "stream",
     "text": [
      "accuracy :  0.6856003986048829\n"
     ]
    }
   ],
   "source": [
    "y_pred = y_pred.reshape(-1,1)\n",
    "accuracy = np.sum(np.where(alltesty == y_pred, 1 , 0 )) / alltesty.shape[0]\n",
    "print(\"accuracy : \",accuracy)"
   ]
  },
  {
   "cell_type": "code",
   "execution_count": 32,
   "metadata": {},
   "outputs": [
    {
     "name": "stdout",
     "output_type": "stream",
     "text": [
      "accuracy :  0.7857498754359741\n"
     ]
    }
   ],
   "source": [
    "input_size = alltrainx.shape[1]\n",
    "output_size = 10\n",
    "hidden_1 = 128\n",
    "hidden_2 = 64\n",
    "\n",
    "batch_size = 100\n",
    "epochs = 500\n",
    "\n",
    "module_1 = Module_lineare(input_size, hidden_1 , True)\n",
    "module_2 = Module_lineare(hidden_1, hidden_2,True)\n",
    "module_3 = Module_lineare(hidden_2, output_size,True)\n",
    "\n",
    "tan_1 = TanH()\n",
    "tan_2 = TanH()\n",
    "softmax = Softmax()\n",
    "\n",
    "loss = CELoss()\n",
    "\n",
    "\n",
    "\n",
    "network = Sequentiel([module_1,tan_1,module_2,tan_2 , module_3 , softmax])\n",
    "\n",
    "\n",
    "optimiser = Optim(network,loss,eps=1e-3)\n",
    "\n",
    "optimiser.SGD(alltrainx, alltrainy_onehot, batch_size, epochs)\n",
    "\n",
    "y_pred = np.argmax(optimiser._net.forward(alltestx) , axis=1)\n",
    "\n",
    "y_pred = y_pred.reshape(-1,1)\n",
    "accuracy = np.sum(np.where(alltesty == y_pred, 1 , 0 )) / alltesty.shape[0]\n",
    "print(\"accuracy : \",accuracy)"
   ]
  },
  {
   "cell_type": "code",
   "execution_count": 33,
   "metadata": {},
   "outputs": [
    {
     "name": "stdout",
     "output_type": "stream",
     "text": [
      "accuracy :  0.7982062780269058\n"
     ]
    }
   ],
   "source": [
    "input_size = alltrainx.shape[1]\n",
    "output_size = 10\n",
    "hidden_1 = 128\n",
    "hidden_2 = 64\n",
    "\n",
    "batch_size = 100\n",
    "epochs = 2000\n",
    "\n",
    "module_1 = Module_lineare(input_size, hidden_1 , True)\n",
    "module_2 = Module_lineare(hidden_1, hidden_2,True)\n",
    "module_3 = Module_lineare(hidden_2, output_size,True)\n",
    "\n",
    "tan_1 = TanH()\n",
    "tan_2 = TanH()\n",
    "softmax = Softmax()\n",
    "\n",
    "loss = CELoss()\n",
    "\n",
    "\n",
    "\n",
    "network = Sequentiel([module_1,tan_1,module_2,tan_2 , module_3 , softmax])\n",
    "\n",
    "\n",
    "optimiser = Optim(network,loss,eps=1e-3)\n",
    "\n",
    "optimiser.SGD(alltrainx, alltrainy_onehot, batch_size, epochs)\n",
    "\n",
    "y_pred = np.argmax(optimiser._net.forward(alltestx) , axis=1)\n",
    "\n",
    "y_pred = y_pred.reshape(-1,1)\n",
    "accuracy = np.sum(np.where(alltesty == y_pred, 1 , 0 )) / alltesty.shape[0]\n",
    "print(\"accuracy : \",accuracy)"
   ]
  },
  {
   "cell_type": "code",
   "execution_count": null,
   "metadata": {},
   "outputs": [],
   "source": [
    "ut.plot_img(X_test,y_test,modele._net,6,n=28)\n"
   ]
  }
 ],
 "metadata": {
  "kernelspec": {
   "display_name": "Python 3",
   "language": "python",
   "name": "python3"
  },
  "language_info": {
   "codemirror_mode": {
    "name": "ipython",
    "version": 3
   },
   "file_extension": ".py",
   "mimetype": "text/x-python",
   "name": "python",
   "nbconvert_exporter": "python",
   "pygments_lexer": "ipython3",
   "version": "3.8.10"
  }
 },
 "nbformat": 4,
 "nbformat_minor": 2
}
