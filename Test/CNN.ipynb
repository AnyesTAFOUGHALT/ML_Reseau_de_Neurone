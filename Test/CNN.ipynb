{
  "cells": [
    {
      "cell_type": "code",
      "execution_count": 1,
      "id": "iR8W_1V8jIXA",
      "metadata": {
        "colab": {
          "base_uri": "https://localhost:8080/"
        },
        "id": "iR8W_1V8jIXA",
        "outputId": "593c2f20-43b4-4c75-f8a3-8bd631539a4a"
      },
      "outputs": [
        {
          "name": "stdout",
          "output_type": "stream",
          "text": [
            "Mounted at /content/drive\n"
          ]
        }
      ],
      "source": [
        "from google.colab import drive\n",
        "drive.mount('/content/drive')"
      ]
    },
    {
      "cell_type": "code",
      "execution_count": 2,
      "id": "ycYwvw_XeiTa",
      "metadata": {
        "id": "ycYwvw_XeiTa"
      },
      "outputs": [],
      "source": [
        "%load_ext autoreload\n",
        "%autoreload 2\n",
        "\n",
        "from sequentiel_CNN import *\n",
        "from modele import *\n",
        "from loss import *\n",
        "\n",
        "import matplotlib.pyplot as plt\n",
        "from sklearn.cluster import KMeans\n",
        "\n",
        "\n",
        "from sklearn.preprocessing import OneHotEncoder\n",
        "from sklearn.metrics import zero_one_loss\n",
        "from sklearn.preprocessing import MinMaxScaler, MaxAbsScaler\n",
        "\n",
        "import utils as ut"
      ]
    },
    {
      "cell_type": "code",
      "execution_count": 3,
      "id": "ujI6DWVnpv5p",
      "metadata": {
        "id": "ujI6DWVnpv5p"
      },
      "outputs": [],
      "source": [
        "uspsdatatrain = \"/content/drive/MyDrive/ML/USPS/USPS_train.txt\"\n",
        "uspsdatatest = \"//content/drive/MyDrive/ML/USPS/USPS_test.txt\"\n",
        "alltrainx,alltrainy = ut.load_usps(uspsdatatrain)\n",
        "alltestx,alltesty = ut.load_usps(uspsdatatest)\n",
        "alltrainx = MinMaxScaler().fit_transform(alltrainx)\n",
        "alltestx = MinMaxScaler().fit_transform(alltestx)"
      ]
    },
    {
      "cell_type": "code",
      "execution_count": 4,
      "id": "pAInxuaxpzgw",
      "metadata": {
        "colab": {
          "base_uri": "https://localhost:8080/"
        },
        "id": "pAInxuaxpzgw",
        "outputId": "adc41ab4-7ceb-4f6f-e624-caef2509ed63"
      },
      "outputs": [
        {
          "name": "stdout",
          "output_type": "stream",
          "text": [
            "(7291, 256)\n",
            "(2007, 256)\n"
          ]
        }
      ],
      "source": [
        "print(alltrainx.shape)\n",
        "print(alltestx.shape)"
      ]
    },
    {
      "cell_type": "markdown",
      "id": "uU6mOOs1o_JA",
      "metadata": {
        "id": "uU6mOOs1o_JA"
      },
      "source": [
        "### Train"
      ]
    },
    {
      "cell_type": "code",
      "execution_count": 5,
      "id": "QRHxnXZnp8_Z",
      "metadata": {
        "colab": {
          "base_uri": "https://localhost:8080/"
        },
        "id": "QRHxnXZnp8_Z",
        "outputId": "e6b975bf-221b-4823-a6fc-7eab3527bf11"
      },
      "outputs": [
        {
          "name": "stderr",
          "output_type": "stream",
          "text": [
            "/usr/local/lib/python3.10/dist-packages/sklearn/preprocessing/_encoders.py:868: FutureWarning: `sparse` was renamed to `sparse_output` in version 1.2 and will be removed in 1.4. `sparse_output` is ignored unless you leave `sparse` to its default value.\n",
            "  warnings.warn(\n"
          ]
        }
      ],
      "source": [
        "idx = np.random.choice(len(alltrainx), 200)\n",
        "X_train = alltrainx[idx][:,:,np.newaxis]\n",
        "y_train = alltrainy[idx]\n",
        "y_train_onehot = OneHotEncoder(sparse = False).fit_transform(alltrainy.reshape(-1,1))[idx]"
      ]
    },
    {
      "cell_type": "markdown",
      "id": "4KzzWpXnpBcT",
      "metadata": {
        "id": "4KzzWpXnpBcT"
      },
      "source": [
        "### Test"
      ]
    },
    {
      "cell_type": "code",
      "execution_count": 6,
      "id": "tMDWNfzhq9Pa",
      "metadata": {
        "colab": {
          "base_uri": "https://localhost:8080/"
        },
        "id": "tMDWNfzhq9Pa",
        "outputId": "31a1aa8c-0c46-4f1d-bb9d-cfff76379bd4"
      },
      "outputs": [
        {
          "name": "stderr",
          "output_type": "stream",
          "text": [
            "/usr/local/lib/python3.10/dist-packages/sklearn/preprocessing/_encoders.py:868: FutureWarning: `sparse` was renamed to `sparse_output` in version 1.2 and will be removed in 1.4. `sparse_output` is ignored unless you leave `sparse` to its default value.\n",
            "  warnings.warn(\n"
          ]
        }
      ],
      "source": [
        "idx = np.random.choice(len(alltestx), 100)\n",
        "X_test = alltestx[idx][:,:,np.newaxis]\n",
        "y_test = alltesty[idx]\n",
        "y_test_onehot = OneHotEncoder(sparse = False).fit_transform(alltesty.reshape(-1,1))[idx]"
      ]
    },
    {
      "cell_type": "code",
      "execution_count": 25,
      "id": "important-performance",
      "metadata": {
        "colab": {
          "base_uri": "https://localhost:8080/"
        },
        "id": "important-performance",
        "outputId": "2e83c3d7-5fc7-4aaa-ded0-c1f7e2db7e07"
      },
      "outputs": [
        {
          "name": "stdout",
          "output_type": "stream",
          "text": [
            "epoch  0\n",
            "epoch  1\n",
            "epoch  2\n",
            "epoch  3\n",
            "epoch  4\n",
            "epoch  5\n",
            "epoch  6\n",
            "epoch  7\n",
            "epoch  8\n",
            "epoch  9\n",
            "epoch  10\n",
            "epoch  11\n",
            "epoch  12\n",
            "epoch  13\n",
            "epoch  14\n",
            "epoch  15\n",
            "epoch  16\n",
            "epoch  17\n",
            "epoch  18\n",
            "epoch  19\n",
            "epoch  20\n",
            "epoch  21\n",
            "epoch  22\n",
            "epoch  23\n",
            "epoch  24\n",
            "epoch  25\n",
            "epoch  26\n",
            "epoch  27\n",
            "epoch  28\n",
            "epoch  29\n",
            "epoch  30\n",
            "epoch  31\n",
            "epoch  32\n",
            "epoch  33\n",
            "epoch  34\n",
            "epoch  35\n",
            "epoch  36\n",
            "epoch  37\n",
            "epoch  38\n",
            "epoch  39\n",
            "epoch  40\n",
            "epoch  41\n",
            "epoch  42\n",
            "epoch  43\n",
            "epoch  44\n",
            "epoch  45\n",
            "epoch  46\n",
            "epoch  47\n",
            "epoch  48\n",
            "epoch  49\n",
            "epoch  50\n",
            "epoch  51\n",
            "epoch  52\n",
            "epoch  53\n",
            "epoch  54\n",
            "epoch  55\n",
            "epoch  56\n",
            "epoch  57\n",
            "epoch  58\n",
            "epoch  59\n",
            "epoch  60\n",
            "epoch  61\n",
            "epoch  62\n",
            "epoch  63\n",
            "epoch  64\n",
            "epoch  65\n",
            "epoch  66\n",
            "epoch  67\n",
            "epoch  68\n",
            "epoch  69\n",
            "epoch  70\n",
            "epoch  71\n",
            "epoch  72\n",
            "epoch  73\n",
            "epoch  74\n",
            "epoch  75\n",
            "epoch  76\n",
            "epoch  77\n",
            "epoch  78\n",
            "epoch  79\n",
            "epoch  80\n",
            "epoch  81\n",
            "epoch  82\n",
            "epoch  83\n",
            "epoch  84\n",
            "epoch  85\n",
            "epoch  86\n",
            "epoch  87\n",
            "epoch  88\n",
            "epoch  89\n",
            "epoch  90\n",
            "epoch  91\n",
            "epoch  92\n",
            "epoch  93\n",
            "epoch  94\n",
            "epoch  95\n",
            "epoch  96\n",
            "epoch  97\n",
            "epoch  98\n",
            "epoch  99\n"
          ]
        }
      ],
      "source": [
        "\n",
        "\n",
        "cov1d = Conv1D(3,1,32,1)\n",
        "maxpool1d = MaxPool1D(2,2)\n",
        "flatten = Flatten()\n",
        "lin1 = Module_lineare(4064,100)\n",
        "relu = ReLu()\n",
        "lin2 = Module_lineare(100,10)\n",
        "\n",
        "\n",
        "loss = CELoss()\n",
        "\n",
        "seq = Sequentiel([cov1d,maxpool1d,flatten,lin1,relu,lin2])\n",
        "\n",
        "\n",
        "\n",
        "epochs = 100\n",
        "batch = 20\n",
        "\n",
        "opt = Optim(seq,loss , 1e-3)\n",
        "losses = opt.SGD(X_train, y_train_onehot, batch, epochs)"
      ]
    },
    {
      "cell_type": "code",
      "execution_count": 6,
      "id": "msKc0XHOjlPr",
      "metadata": {
        "colab": {
          "base_uri": "https://localhost:8080/",
          "height": 449
        },
        "id": "msKc0XHOjlPr",
        "outputId": "a5707301-37b7-4f28-ff75-545ecaad5348"
      },
      "outputs": [
        {
          "data": {
            "image/png": "[encoded data removed]",
            "text/plain": [
              "<Figure size 640x480 with 1 Axes>"
            ]
          },
          "metadata": {},
          "output_type": "display_data"
        }
      ],
      "source": [
        "plt.figure()\n",
        "plt.plot(range(1,epochs+1),losses)\n",
        "plt.xlabel(\"nombre d'itération\")\n",
        "plt.ylabel('cout')\n",
        "plt.savefig(\"CNN\")\n",
        "plt.show()"
      ]
    },
    {
      "cell_type": "code",
      "execution_count": 26,
      "id": "sVHUsQm0pAAZ",
      "metadata": {
        "colab": {
          "base_uri": "https://localhost:8080/"
        },
        "id": "sVHUsQm0pAAZ",
        "outputId": "59604c81-5e80-48cd-c0fb-21d9cfb958c2"
      },
      "outputs": [
        {
          "name": "stdout",
          "output_type": "stream",
          "text": [
            "accuracy :  0.97\n"
          ]
        }
      ],
      "source": [
        "pred = opt.net.forward(X_train)\n",
        "yhat = np.argmax(pred[-1],axis=1)\n",
        "print(\"accuracy : \",np.mean(yhat==y_train))\n"
      ]
    },
    {
      "cell_type": "code",
      "execution_count": 27,
      "id": "btNtiBKRpsOi",
      "metadata": {
        "colab": {
          "base_uri": "https://localhost:8080/"
        },
        "id": "btNtiBKRpsOi",
        "outputId": "1ee49932-edc1-4e6c-b597-c644ab4f9855"
      },
      "outputs": [
        {
          "name": "stdout",
          "output_type": "stream",
          "text": [
            "accuracy :  0.66\n"
          ]
        }
      ],
      "source": [
        "pred = opt.net.forward(X_test)\n",
        "yhat = np.argmax(pred[-1],axis=1)\n",
        "print(\"accuracy : \",np.mean(yhat==y_test))"
      ]
    },
    {
      "cell_type": "markdown",
      "id": "xX_-PfPAuur_",
      "metadata": {
        "id": "xX_-PfPAuur_"
      },
      "source": [
        "#### Avec 250 epochs"
      ]
    },
    {
      "cell_type": "code",
      "execution_count": 7,
      "id": "d2lHqmdgpVnW",
      "metadata": {
        "colab": {
          "base_uri": "https://localhost:8080/"
        },
        "id": "d2lHqmdgpVnW",
        "outputId": "b54b0412-78c5-44ba-bb6e-f7b9aaab4859"
      },
      "outputs": [
        {
          "name": "stdout",
          "output_type": "stream",
          "text": [
            "epoch  0\n",
            "epoch  1\n",
            "epoch  2\n",
            "epoch  3\n",
            "epoch  4\n",
            "epoch  5\n",
            "epoch  6\n",
            "epoch  7\n",
            "epoch  8\n",
            "epoch  9\n",
            "epoch  10\n",
            "epoch  11\n",
            "epoch  12\n",
            "epoch  13\n",
            "epoch  14\n",
            "epoch  15\n",
            "epoch  16\n",
            "epoch  17\n",
            "epoch  18\n",
            "epoch  19\n",
            "epoch  20\n",
            "epoch  21\n",
            "epoch  22\n",
            "epoch  23\n",
            "epoch  24\n",
            "epoch  25\n",
            "epoch  26\n",
            "epoch  27\n",
            "epoch  28\n",
            "epoch  29\n",
            "epoch  30\n",
            "epoch  31\n",
            "epoch  32\n",
            "epoch  33\n",
            "epoch  34\n",
            "epoch  35\n",
            "epoch  36\n",
            "epoch  37\n",
            "epoch  38\n",
            "epoch  39\n",
            "epoch  40\n",
            "epoch  41\n",
            "epoch  42\n",
            "epoch  43\n",
            "epoch  44\n",
            "epoch  45\n",
            "epoch  46\n",
            "epoch  47\n",
            "epoch  48\n",
            "epoch  49\n",
            "epoch  50\n",
            "epoch  51\n",
            "epoch  52\n",
            "epoch  53\n",
            "epoch  54\n",
            "epoch  55\n",
            "epoch  56\n",
            "epoch  57\n",
            "epoch  58\n",
            "epoch  59\n",
            "epoch  60\n",
            "epoch  61\n",
            "epoch  62\n",
            "epoch  63\n",
            "epoch  64\n",
            "epoch  65\n",
            "epoch  66\n",
            "epoch  67\n",
            "epoch  68\n",
            "epoch  69\n",
            "epoch  70\n",
            "epoch  71\n",
            "epoch  72\n",
            "epoch  73\n",
            "epoch  74\n",
            "epoch  75\n",
            "epoch  76\n",
            "epoch  77\n",
            "epoch  78\n",
            "epoch  79\n",
            "epoch  80\n",
            "epoch  81\n",
            "epoch  82\n",
            "epoch  83\n",
            "epoch  84\n",
            "epoch  85\n",
            "epoch  86\n",
            "epoch  87\n",
            "epoch  88\n",
            "epoch  89\n",
            "epoch  90\n",
            "epoch  91\n",
            "epoch  92\n",
            "epoch  93\n",
            "epoch  94\n",
            "epoch  95\n",
            "epoch  96\n",
            "epoch  97\n",
            "epoch  98\n",
            "epoch  99\n",
            "epoch  100\n",
            "epoch  101\n",
            "epoch  102\n",
            "epoch  103\n",
            "epoch  104\n",
            "epoch  105\n",
            "epoch  106\n",
            "epoch  107\n",
            "epoch  108\n",
            "epoch  109\n",
            "epoch  110\n",
            "epoch  111\n",
            "epoch  112\n",
            "epoch  113\n",
            "epoch  114\n",
            "epoch  115\n",
            "epoch  116\n",
            "epoch  117\n",
            "epoch  118\n",
            "epoch  119\n",
            "epoch  120\n",
            "epoch  121\n",
            "epoch  122\n",
            "epoch  123\n",
            "epoch  124\n",
            "epoch  125\n",
            "epoch  126\n",
            "epoch  127\n",
            "epoch  128\n",
            "epoch  129\n",
            "epoch  130\n",
            "epoch  131\n",
            "epoch  132\n",
            "epoch  133\n",
            "epoch  134\n",
            "epoch  135\n",
            "epoch  136\n",
            "epoch  137\n",
            "epoch  138\n",
            "epoch  139\n",
            "epoch  140\n",
            "epoch  141\n",
            "epoch  142\n",
            "epoch  143\n",
            "epoch  144\n",
            "epoch  145\n",
            "epoch  146\n",
            "epoch  147\n",
            "epoch  148\n",
            "epoch  149\n",
            "epoch  150\n",
            "epoch  151\n",
            "epoch  152\n",
            "epoch  153\n",
            "epoch  154\n",
            "epoch  155\n",
            "epoch  156\n",
            "epoch  157\n",
            "epoch  158\n",
            "epoch  159\n",
            "epoch  160\n",
            "epoch  161\n",
            "epoch  162\n",
            "epoch  163\n",
            "epoch  164\n",
            "epoch  165\n",
            "epoch  166\n",
            "epoch  167\n",
            "epoch  168\n",
            "epoch  169\n",
            "epoch  170\n",
            "epoch  171\n",
            "epoch  172\n",
            "epoch  173\n",
            "epoch  174\n",
            "epoch  175\n",
            "epoch  176\n",
            "epoch  177\n",
            "epoch  178\n",
            "epoch  179\n",
            "epoch  180\n",
            "epoch  181\n",
            "epoch  182\n",
            "epoch  183\n",
            "epoch  184\n",
            "epoch  185\n",
            "epoch  186\n",
            "epoch  187\n",
            "epoch  188\n",
            "epoch  189\n",
            "epoch  190\n",
            "epoch  191\n",
            "epoch  192\n",
            "epoch  193\n",
            "epoch  194\n",
            "epoch  195\n",
            "epoch  196\n",
            "epoch  197\n",
            "epoch  198\n",
            "epoch  199\n",
            "epoch  200\n",
            "epoch  201\n",
            "epoch  202\n",
            "epoch  203\n",
            "epoch  204\n",
            "epoch  205\n",
            "epoch  206\n",
            "epoch  207\n",
            "epoch  208\n",
            "epoch  209\n",
            "epoch  210\n",
            "epoch  211\n",
            "epoch  212\n",
            "epoch  213\n",
            "epoch  214\n",
            "epoch  215\n",
            "epoch  216\n",
            "epoch  217\n",
            "epoch  218\n",
            "epoch  219\n",
            "epoch  220\n",
            "epoch  221\n",
            "epoch  222\n",
            "epoch  223\n",
            "epoch  224\n",
            "epoch  225\n",
            "epoch  226\n",
            "epoch  227\n",
            "epoch  228\n",
            "epoch  229\n",
            "epoch  230\n",
            "epoch  231\n",
            "epoch  232\n",
            "epoch  233\n",
            "epoch  234\n",
            "epoch  235\n",
            "epoch  236\n",
            "epoch  237\n",
            "epoch  238\n",
            "epoch  239\n",
            "epoch  240\n",
            "epoch  241\n",
            "epoch  242\n",
            "epoch  243\n",
            "epoch  244\n",
            "epoch  245\n",
            "epoch  246\n",
            "epoch  247\n",
            "epoch  248\n",
            "epoch  249\n"
          ]
        }
      ],
      "source": [
        "cov1d = Conv1D(3,1,32,1)\n",
        "maxpool1d = MaxPool1D(2,2)\n",
        "flatten = Flatten()\n",
        "lin1 = Module_lineare(4064,100)\n",
        "relu = ReLu()\n",
        "lin2 = Module_lineare(100,10)\n",
        "\n",
        "loss = CELoss()\n",
        "\n",
        "seq2 = Sequentiel([cov1d,maxpool1d,flatten,lin1,relu,lin2])\n",
        "\n",
        "\n",
        "\n",
        "epochs = 250\n",
        "batch = 20\n",
        "\n",
        "opt2 = Optim(seq2,loss , 1e-3)\n",
        "losses2 = opt2.SGD(X_train, y_train_onehot, batch, epochs)"
      ]
    },
    {
      "cell_type": "code",
      "execution_count": 8,
      "id": "XsNakZeX0XL_",
      "metadata": {
        "colab": {
          "base_uri": "https://localhost:8080/",
          "height": 449
        },
        "id": "XsNakZeX0XL_",
        "outputId": "4e206924-1fd9-4a5b-e0ad-ff2892f1a8e4"
      },
      "outputs": [
        {
          "data": {
            "image/png": "[encoded data removed]",
            "text/plain": [
              "<Figure size 640x480 with 1 Axes>"
            ]
          },
          "metadata": {},
          "output_type": "display_data"
        }
      ],
      "source": [
        "plt.figure()\n",
        "plt.plot(range(1,epochs+1),losses2)\n",
        "plt.xlabel(\"nombre d'epochs\")\n",
        "plt.ylabel('loss')\n",
        "plt.savefig(\"CNN\")\n",
        "plt.show()"
      ]
    },
    {
      "cell_type": "code",
      "execution_count": 9,
      "id": "TpmwxdrK7bSI",
      "metadata": {
        "colab": {
          "base_uri": "https://localhost:8080/"
        },
        "id": "TpmwxdrK7bSI",
        "outputId": "f02cf802-cec0-4a83-b8e9-06d3249cfb59"
      },
      "outputs": [
        {
          "name": "stdout",
          "output_type": "stream",
          "text": [
            "accuracy :  1.0\n"
          ]
        }
      ],
      "source": [
        "pred = opt2.net.forward(X_train)\n",
        "yhat = np.argmax(pred[-1],axis=1)\n",
        "print(\"accuracy : \",np.mean(yhat==y_train))\n"
      ]
    },
    {
      "cell_type": "code",
      "execution_count": 10,
      "id": "kD9XVnLq7bSL",
      "metadata": {
        "colab": {
          "base_uri": "https://localhost:8080/"
        },
        "id": "kD9XVnLq7bSL",
        "outputId": "2abea83c-bb74-4224-aecf-eac7711b80d8"
      },
      "outputs": [
        {
          "name": "stdout",
          "output_type": "stream",
          "text": [
            "accuracy :  0.77\n"
          ]
        }
      ],
      "source": [
        "pred = opt2.net.forward(X_test)\n",
        "yhat = np.argmax(pred[-1],axis=1)\n",
        "print(\"accuracy : \",np.mean(yhat==y_test))"
      ]
    }
  ],
  "metadata": {
    "accelerator": "GPU",
    "colab": {
      "gpuType": "T4",
      "provenance": []
    },
    "kernelspec": {
      "display_name": "Python 3.8.8 64-bit ('base': conda)",
      "name": "python388jvsc74a57bd0e78acf82f6880d63d59ea2cef38fd129ce4fb41f3114ee9436a8608861aa718c"
    },
    "language_info": {
      "codemirror_mode": {
        "name": "ipython",
        "version": 3
      },
      "file_extension": ".py",
      "mimetype": "text/x-python",
      "name": "python",
      "nbconvert_exporter": "python",
      "pygments_lexer": "ipython3",
      "version": "3.8.8"
    }
  },
  "nbformat": 4,
  "nbformat_minor": 5
}
